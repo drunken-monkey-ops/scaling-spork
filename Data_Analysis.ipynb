{
 "cells": [
  {
   "cell_type": "code",
   "execution_count": 1,
   "id": "bb65441c-4e83-47d3-88a1-5d966862dc45",
   "metadata": {},
   "outputs": [],
   "source": [
    "import numpy as np # linear algebra\n",
    "import pandas as pd\n",
    "import matplotlib.pyplot as plt\n",
    "import pyspark\n",
    "from pyspark import SparkConf, SparkContext\n",
    "from pyspark.sql import SparkSession, SQLContext\n",
    "from pyspark.sql.types import *\n",
    "from pyspark.sql.functions import * \n",
    "from pyspark.sql import functions as f"
   ]
  },
  {
   "cell_type": "code",
   "execution_count": 2,
   "id": "2af0b781-e9be-460f-9777-28babcd3a634",
   "metadata": {},
   "outputs": [
    {
     "name": "stderr",
     "output_type": "stream",
     "text": [
      "Setting default log level to \"WARN\".\n",
      "To adjust logging level use sc.setLogLevel(newLevel). For SparkR, use setLogLevel(newLevel).\n",
      "24/03/07 16:12:27 WARN NativeCodeLoader: Unable to load native-hadoop library for your platform... using builtin-java classes where applicable\n"
     ]
    }
   ],
   "source": [
    "spark_session = SparkSession\\\n",
    "        .builder\\\n",
    "        .master(\"spark://192.168.2.172:7077\") \\\n",
    "        .appName(\"Investigation on Authors based on content length\")\\\n",
    "        .config(\"spark.dynamicAllocation.enabled\", True)\\\n",
    "        .config(\"spark.dynamicAllocation.shuffleTracking.enabled\",True)\\\n",
    "        .config(\"spark.shuffle.service.enabled\", False)\\\n",
    "        .config(\"spark.dynamicAllocation.executorIdleTimeout\",\"300s\")\\\n",
    "        .config(\"spark.executor.cores\",2)\\\n",
    "        .config(\"spark.driver.port\",9999)\\\n",
    "        .config(\"spark.blockManager.port\",10005)\\\n",
    "        .getOrCreate()\n",
    "\n",
    "spark_context = spark_session.sparkContext\n",
    "\n",
    "spark_context.setLogLevel(\"ERROR\")"
   ]
  },
  {
   "cell_type": "code",
   "execution_count": 3,
   "id": "b6f3db3e-8104-4ddf-819e-5a1f14012775",
   "metadata": {},
   "outputs": [
    {
     "data": {
      "text/html": [
       "\n",
       "            <div>\n",
       "                <p><b>SparkSession - in-memory</b></p>\n",
       "                \n",
       "        <div>\n",
       "            <p><b>SparkContext</b></p>\n",
       "\n",
       "            <p><a href=\"http://de-i-16-master:4040\">Spark UI</a></p>\n",
       "\n",
       "            <dl>\n",
       "              <dt>Version</dt>\n",
       "                <dd><code>v3.5.1</code></dd>\n",
       "              <dt>Master</dt>\n",
       "                <dd><code>spark://192.168.2.172:7077</code></dd>\n",
       "              <dt>AppName</dt>\n",
       "                <dd><code>Investigation on Authors based on content length</code></dd>\n",
       "            </dl>\n",
       "        </div>\n",
       "        \n",
       "            </div>\n",
       "        "
      ],
      "text/plain": [
       "<pyspark.sql.session.SparkSession at 0x7f7e90ac0550>"
      ]
     },
     "execution_count": 3,
     "metadata": {},
     "output_type": "execute_result"
    }
   ],
   "source": [
    "spark_session"
   ]
  },
  {
   "cell_type": "code",
   "execution_count": 4,
   "id": "4d2a1185-8cb4-4cf3-8489-e76cb040df5a",
   "metadata": {},
   "outputs": [
    {
     "name": "stderr",
     "output_type": "stream",
     "text": [
      "                                                                                \r"
     ]
    }
   ],
   "source": [
    "df = spark_session.read.json('hdfs://de-i-16-hdfs:9000/user/ubuntu/corpus-webis-tldr-17.json')"
   ]
  },
  {
   "cell_type": "code",
   "execution_count": 5,
   "id": "3044f330-a390-4cd3-9235-d32a50a745e8",
   "metadata": {},
   "outputs": [
    {
     "name": "stdout",
     "output_type": "stream",
     "text": [
      "root\n",
      " |-- author: string (nullable = true)\n",
      " |-- body: string (nullable = true)\n",
      " |-- content: string (nullable = true)\n",
      " |-- content_len: long (nullable = true)\n",
      " |-- id: string (nullable = true)\n",
      " |-- normalizedBody: string (nullable = true)\n",
      " |-- subreddit: string (nullable = true)\n",
      " |-- subreddit_id: string (nullable = true)\n",
      " |-- summary: string (nullable = true)\n",
      " |-- summary_len: long (nullable = true)\n",
      " |-- title: string (nullable = true)\n",
      "\n"
     ]
    }
   ],
   "source": [
    "df.printSchema()"
   ]
  },
  {
   "cell_type": "code",
   "execution_count": 6,
   "id": "2cb3b475-2f20-4f32-b8cf-af7dd4b57445",
   "metadata": {},
   "outputs": [
    {
     "name": "stderr",
     "output_type": "stream",
     "text": [
      "                                                                                \r"
     ]
    },
    {
     "data": {
      "text/plain": [
       "9952"
      ]
     },
     "execution_count": 6,
     "metadata": {},
     "output_type": "execute_result"
    }
   ],
   "source": [
    "df.agg({\"content_len\": \"max\"}).collect()[0][0]"
   ]
  },
  {
   "cell_type": "code",
   "execution_count": 7,
   "id": "b64a36b2-463e-4d66-b959-30994a069daa",
   "metadata": {},
   "outputs": [
    {
     "name": "stderr",
     "output_type": "stream",
     "text": [
      "                                                                                \r"
     ]
    },
    {
     "data": {
      "text/plain": [
       "2"
      ]
     },
     "execution_count": 7,
     "metadata": {},
     "output_type": "execute_result"
    }
   ],
   "source": [
    "df.agg({\"content_len\": \"min\"}).collect()[0][0]"
   ]
  },
  {
   "cell_type": "code",
   "execution_count": 8,
   "id": "12c5140f-7888-4ed7-b8a9-3a764171418a",
   "metadata": {},
   "outputs": [],
   "source": [
    "df_filtered=df.filter(df.author != '[deleted]')"
   ]
  },
  {
   "cell_type": "code",
   "execution_count": 9,
   "id": "64308ed9-5a5c-4d14-b3fa-48004680b575",
   "metadata": {},
   "outputs": [],
   "source": [
    "long_content_result = df_filtered.select('author', 'content_len').sort('content_len', ascending = False)"
   ]
  },
  {
   "cell_type": "code",
   "execution_count": 10,
   "id": "a0d90404-74c6-4319-a5c5-4aac9620e6fd",
   "metadata": {},
   "outputs": [
    {
     "name": "stderr",
     "output_type": "stream",
     "text": [
      "[Stage 7:======================================================>(146 + 1) / 147]\r"
     ]
    },
    {
     "name": "stdout",
     "output_type": "stream",
     "text": [
      "+--------------------+-----------+\n",
      "|              author|content_len|\n",
      "+--------------------+-----------+\n",
      "|         Didimeister|       9952|\n",
      "|PmMeUrGrammerMistake|       7259|\n",
      "|         iluhdatmass|       7249|\n",
      "|           Atlas2088|       7215|\n",
      "|               nlofe|       7197|\n",
      "|    doigotoaustralia|       7076|\n",
      "|            POVsocks|       7052|\n",
      "|    doigotoaustralia|       7027|\n",
      "|         fakie_cakes|       7014|\n",
      "|  supermanthrows1212|       6948|\n",
      "| redditmakesmegiggle|       6829|\n",
      "|           thedeejus|       6790|\n",
      "|             jackou2|       6730|\n",
      "|           interfail|       6713|\n",
      "|             olicope|       6703|\n",
      "|             olicope|       6694|\n",
      "|     PM_ME_NUDE_BITS|       6642|\n",
      "|         sorryfriend|       6627|\n",
      "|        Candle_Jack_|       6597|\n",
      "|Vincethatwaspromised|       6595|\n",
      "+--------------------+-----------+\n",
      "only showing top 20 rows\n",
      "\n"
     ]
    },
    {
     "name": "stderr",
     "output_type": "stream",
     "text": [
      "                                                                                \r"
     ]
    }
   ],
   "source": [
    "long_content_result.show()\n",
    "#plt.bar(long_content_result['author'],long_content_result['content_len'])"
   ]
  },
  {
   "cell_type": "code",
   "execution_count": 11,
   "id": "dcdcebf7-4d55-47c6-bab5-636fa36bd555",
   "metadata": {},
   "outputs": [],
   "source": [
    "df_filtered_2 = df_filtered.filter(df_filtered.content_len < 1000)"
   ]
  },
  {
   "cell_type": "code",
   "execution_count": 12,
   "id": "cf9232b8-f6dc-4e51-9830-febd767fa4dd",
   "metadata": {},
   "outputs": [],
   "source": [
    "author_grouped = df_filtered_2.groupBy('author').mean('content_len')"
   ]
  },
  {
   "cell_type": "code",
   "execution_count": 13,
   "id": "510c8eee-6d4a-40e8-b5dd-b0d077dac171",
   "metadata": {},
   "outputs": [
    {
     "name": "stderr",
     "output_type": "stream",
     "text": [
      "[Stage 8:======================================================>(146 + 1) / 147]\r"
     ]
    },
    {
     "name": "stdout",
     "output_type": "stream",
     "text": [
      "+----------------+------------------+\n",
      "|          author|  avg(content_len)|\n",
      "+----------------+------------------+\n",
      "|  hollaback_girl| 97.52380952380952|\n",
      "|       burncycle|120.79310344827586|\n",
      "|        Gonziago|             225.0|\n",
      "|      scubamikey|             181.5|\n",
      "|  The_ESC_artist|             165.0|\n",
      "|      leethestud|             180.0|\n",
      "|        vaughnm1| 646.6666666666666|\n",
      "|       occamsrzr|            124.75|\n",
      "|   twisted_spoon|             398.5|\n",
      "|        malkouri| 188.2941176470588|\n",
      "|       cucchiaio|378.85714285714283|\n",
      "| MedeaDemonblood| 443.1818181818182|\n",
      "|      Purrmaster|             148.0|\n",
      "|  HiddenInSorrow|             332.0|\n",
      "|             OIP| 112.0990099009901|\n",
      "|       arcbeetle|158.33333333333334|\n",
      "|Fearlessleader85| 289.8854166666667|\n",
      "|     panthanator|             337.0|\n",
      "|         ChoiceD|               4.0|\n",
      "|     SpartacvsZA|             806.0|\n",
      "+----------------+------------------+\n",
      "only showing top 20 rows\n",
      "\n"
     ]
    },
    {
     "name": "stderr",
     "output_type": "stream",
     "text": [
      "                                                                                \r"
     ]
    }
   ],
   "source": [
    "author_grouped.show(20)"
   ]
  },
  {
   "cell_type": "code",
   "execution_count": 35,
   "id": "6fb08991-38e8-4526-a1d0-4da7ab0436af",
   "metadata": {},
   "outputs": [],
   "source": [
    "#author_subreddit_grouped = df_filtered_2.groupBy('author').count()"
   ]
  },
  {
   "cell_type": "code",
   "execution_count": 14,
   "id": "28bf3313-827c-409a-af29-6f6298b4de2a",
   "metadata": {},
   "outputs": [],
   "source": [
    "author_subreddit_grouped = df_filtered_2.groupBy('author').agg(f.collect_list('subreddit'))"
   ]
  },
  {
   "cell_type": "code",
   "execution_count": 15,
   "id": "8ae468c7-177b-4208-888b-ba57bec5a981",
   "metadata": {},
   "outputs": [
    {
     "name": "stderr",
     "output_type": "stream",
     "text": [
      "[Stage 11:=====================================================>(146 + 1) / 147]\r"
     ]
    },
    {
     "name": "stdout",
     "output_type": "stream",
     "text": [
      "+---------------+-----------------------+\n",
      "|         author|collect_list(subreddit)|\n",
      "+---------------+-----------------------+\n",
      "|   ---JustMe---|              worldnews|\n",
      "|    ---annon---|          TrueChristian|\n",
      "|    ---annon---|         rapecounseling|\n",
      "|    ---annon---|              AskReddit|\n",
      "|--Beetlejuice--|              HappyWars|\n",
      "|        --Chaos|                  DotA2|\n",
      "|         --MG--|          DunderMifflin|\n",
      "|         --MG--|          clevelandcavs|\n",
      "|       --Ping--|                   IAmA|\n",
      "|       --Ping--|                 movies|\n",
      "|         --TT--|                    40k|\n",
      "|     --Unidan--|                 Nexus5|\n",
      "|           -10-|             conspiracy|\n",
      "|           -10-|                    law|\n",
      "|           -10-|             conspiracy|\n",
      "|           -3k-|             Guildwars2|\n",
      "|  -AbracadaveR-|                nosleep|\n",
      "| -Ace_Rockolla-|                  wakfu|\n",
      "|         -Ahab-|              AskReddit|\n",
      "|         -Ahab-|          AdviceAnimals|\n",
      "+---------------+-----------------------+\n",
      "only showing top 20 rows\n",
      "\n"
     ]
    },
    {
     "name": "stderr",
     "output_type": "stream",
     "text": [
      "                                                                                \r"
     ]
    }
   ],
   "source": [
    "author_subreddit_grouped.withColumn('collect_list(subreddit)', f.explode(f.col('collect_list(subreddit)'))).show()"
   ]
  },
  {
   "cell_type": "code",
   "execution_count": 16,
   "id": "1af1a7c8-dc0a-4880-964e-9e54398b14ce",
   "metadata": {},
   "outputs": [],
   "source": [
    "spark_context.stop()"
   ]
  },
  {
   "cell_type": "code",
   "execution_count": null,
   "id": "ee51ebd9-dcf8-4737-b8c3-4c45bdbb22a5",
   "metadata": {},
   "outputs": [],
   "source": []
  }
 ],
 "metadata": {
  "kernelspec": {
   "display_name": "Python 3 (ipykernel)",
   "language": "python",
   "name": "python3"
  },
  "language_info": {
   "codemirror_mode": {
    "name": "ipython",
    "version": 3
   },
   "file_extension": ".py",
   "mimetype": "text/x-python",
   "name": "python",
   "nbconvert_exporter": "python",
   "pygments_lexer": "ipython3",
   "version": "3.8.10"
  }
 },
 "nbformat": 4,
 "nbformat_minor": 5
}
